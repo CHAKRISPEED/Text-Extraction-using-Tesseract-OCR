{
  "nbformat": 4,
  "nbformat_minor": 0,
  "metadata": {
    "colab": {
      "name": "OCRusingTesseract.ipynb",
      "provenance": []
    },
    "kernelspec": {
      "name": "python2",
      "display_name": "Python 2"
    }
  },
  "cells": [
    {
      "metadata": {
        "id": "uWwpI-24_Nob"
      },
      "cell_type": "code",
      "source": [
        "!sudo apt install tesseract-ocr"
      ],
      "execution_count": null,
      "outputs": []
    },
    {
      "metadata": {
        "id": "ujL16dZ2_O-3"
      },
      "cell_type": "code",
      "source": [
        "!pip install pytesseract"
      ],
      "execution_count": null,
      "outputs": []
    },
    {
      "metadata": {
        "id": "QKJh7JjTAqzO"
      },
      "cell_type": "code",
      "source": [
        "import pytesseract\n",
        "import shutil\n",
        "import os\n",
        "import random\n",
        "try:\n",
        "    from PIL import Image\n",
        "except ImportError:\n",
        "    import Image"
      ],
      "execution_count": null,
      "outputs": []
    },
    {
      "metadata": {
        "id": "8zmc-K_nAyg1",
        "collapsed": true
      },
      "cell_type": "code",
      "source": [
        "from google.colab import files\n",
        "\n",
        "uploaded = files.upload()"
      ],
      "execution_count": null,
      "outputs": []
    },
    {
      "metadata": {
        "id": "HaM3cMUDA_Ma"
      },
      "cell_type": "code",
      "source": [
        "extractedInformation = pytesseract.image_to_string(Image.open('your png name'))"
      ],
      "execution_count": null,
      "outputs": []
    },
    {
      "metadata": {
        "id": "Key-3vILBNUd"
      },
      "cell_type": "code",
      "source": [
        "print(extractedInformation)"
      ],
      "execution_count": null,
      "outputs": []
    }
  ]
}